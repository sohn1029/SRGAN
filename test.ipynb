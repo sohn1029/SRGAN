{
 "cells": [
  {
   "cell_type": "code",
   "execution_count": 1,
   "id": "9a14e1f3",
   "metadata": {},
   "outputs": [],
   "source": [
    "import argparse\n",
    "import time\n",
    "import os\n",
    "import torch\n",
    "from PIL import Image\n",
    "from torch.autograd import Variable\n",
    "from torchvision.transforms import ToTensor, ToPILImage\n",
    "import torch.nn.functional as F\n",
    "from model import Generator"
   ]
  },
  {
   "cell_type": "code",
   "execution_count": 2,
   "id": "1835b53b",
   "metadata": {},
   "outputs": [],
   "source": [
    "UPSCALE_FACTOR = 4\n",
    "TEST_IMAGE = 'lr2.jpg'\n",
    "TEST_PATH = './data/test/'\n",
    "OUTPUT_PATH = './test_output/'\n",
    "if not os.path.exists(OUTPUT_PATH):\n",
    "    os.makedirs(OUTPUT_PATH)\n",
    "MODEL = './epochs/netG_epoch_4_47.pth'"
   ]
  },
  {
   "cell_type": "code",
   "execution_count": 3,
   "id": "4d482295",
   "metadata": {},
   "outputs": [],
   "source": [
    "model = Generator(UPSCALE_FACTOR).eval()\n",
    "\n",
    "model.load_state_dict(torch.load(MODEL, map_location=\"cuda:0\"))\n",
    "model = model.cuda()"
   ]
  },
  {
   "cell_type": "code",
   "execution_count": 4,
   "id": "f9dd0957",
   "metadata": {},
   "outputs": [
    {
     "name": "stdout",
     "output_type": "stream",
     "text": [
      "torch.Size([1, 3, 450, 800])\n"
     ]
    }
   ],
   "source": [
    "image = Image.open(TEST_PATH + TEST_IMAGE)\n",
    "with torch.no_grad():\n",
    "    image = Variable(ToTensor()(image)).unsqueeze(0)\n",
    "    image = F.interpolate(image, size=(450, 800), mode='bicubic', align_corners=False)\n",
    "    print(image.size())\n",
    "image = image.cuda()"
   ]
  },
  {
   "cell_type": "code",
   "execution_count": 5,
   "id": "3294c765",
   "metadata": {},
   "outputs": [
    {
     "name": "stdout",
     "output_type": "stream",
     "text": [
      "process time : 2.265625s\n"
     ]
    }
   ],
   "source": [
    "start = time.process_time()\n",
    "out = model(image)\n",
    "elapsed = time.process_time() - start\n",
    "print('process time : ' + str(elapsed) + 's')\n",
    "out = F.interpolate(out, size=(1440, 2560), mode='bicubic', align_corners=False)\n",
    "out_img = ToPILImage()(out[0].data.cpu())\n",
    "out_img.save(OUTPUT_PATH + TEST_IMAGE)"
   ]
  },
  {
   "cell_type": "code",
   "execution_count": null,
   "id": "0e4802c5",
   "metadata": {},
   "outputs": [],
   "source": []
  }
 ],
 "metadata": {
  "kernelspec": {
   "display_name": "Python 3 (ipykernel)",
   "language": "python",
   "name": "python3"
  },
  "language_info": {
   "codemirror_mode": {
    "name": "ipython",
    "version": 3
   },
   "file_extension": ".py",
   "mimetype": "text/x-python",
   "name": "python",
   "nbconvert_exporter": "python",
   "pygments_lexer": "ipython3",
   "version": "3.9.7"
  }
 },
 "nbformat": 4,
 "nbformat_minor": 5
}
