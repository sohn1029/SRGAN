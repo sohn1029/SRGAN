{
 "cells": [
  {
   "cell_type": "code",
   "execution_count": 1,
   "id": "9a14e1f3",
   "metadata": {},
   "outputs": [],
   "source": [
    "import argparse\n",
    "import time\n",
    "import os\n",
    "import torch\n",
    "from PIL import Image\n",
    "from torch.autograd import Variable\n",
    "from torchvision.transforms import ToTensor, ToPILImage\n",
    "import torch.nn.functional as F\n",
    "from model import Generator\n",
    "import numpy as np"
   ]
  },
  {
   "cell_type": "code",
   "execution_count": 2,
   "id": "1835b53b",
   "metadata": {},
   "outputs": [],
   "source": [
    "UPSCALE_FACTOR = 4\n",
    "TEST_IMAGE = 'frame63063.jpg'\n",
    "TEST_PATH = './data/test/'\n",
    "OUTPUT_PATH = './test_output/'\n",
    "if not os.path.exists(OUTPUT_PATH):\n",
    "    os.makedirs(OUTPUT_PATH)\n",
    "MODEL = './epochs/netG_epoch_4_91.pth'"
   ]
  },
  {
   "cell_type": "code",
   "execution_count": 3,
   "id": "4d482295",
   "metadata": {},
   "outputs": [],
   "source": [
    "model = Generator(UPSCALE_FACTOR).eval()\n",
    "\n",
    "model.load_state_dict(torch.load(MODEL, map_location=\"cuda:0\"))\n",
    "model = model.cuda()"
   ]
  },
  {
   "cell_type": "code",
   "execution_count": 8,
   "id": "f9dd0957",
   "metadata": {},
   "outputs": [
    {
     "name": "stdout",
     "output_type": "stream",
     "text": [
      "torch.Size([1, 3, 450, 800])\n"
     ]
    }
   ],
   "source": [
    "image = Image.open(TEST_PATH + TEST_IMAGE)\n",
    "with torch.no_grad():\n",
    "    image = ToTensor()(image).unsqueeze(0)\n",
    "    image = F.interpolate(image, size=(450, 800), mode='bicubic', align_corners=False)\n",
    "    print(image.size())\n",
    "image = image.cuda()"
   ]
  },
  {
   "cell_type": "code",
   "execution_count": 5,
   "id": "3294c765",
   "metadata": {},
   "outputs": [
    {
     "name": "stdout",
     "output_type": "stream",
     "text": [
      "process time : 2.265625s\n"
     ]
    }
   ],
   "source": [
    "start = time.process_time()\n",
    "out = model(image)\n",
    "elapsed = time.process_time() - start\n",
    "print('process time : ' + str(elapsed) + 's')\n",
    "out = F.interpolate(out, size=(1440, 2560), mode='bicubic', align_corners=False)\n",
    "out_img = ToPILImage()(out[0].data.cpu())\n",
    "out_img.save(OUTPUT_PATH + TEST_IMAGE)"
   ]
  },
  {
   "cell_type": "code",
   "execution_count": 18,
   "id": "0e4802c5",
   "metadata": {},
   "outputs": [
    {
     "name": "stdout",
     "output_type": "stream",
     "text": [
      "(720, 1280, 3)\n",
      "792 1320\n",
      "(3, 3168, 5280)\n",
      "(1440, 2560, 3)\n"
     ]
    }
   ],
   "source": [
    "import matplotlib.pyplot as plt\n",
    "import os\n",
    "import cv2\n",
    "\n",
    "os.environ['KMP_DUPLICATE_LIB_OK']='True'\n",
    "\n",
    "image = Image.open(TEST_PATH + TEST_IMAGE)\n",
    "image = np.array(image)\n",
    "print(image.shape)\n",
    "input_h = 720\n",
    "input_w = 1280\n",
    "scaled_h = (input_h//88+1)*88\n",
    "scaled_w = (input_w//88+1)*88\n",
    "pad_h = scaled_h-input_h\n",
    "pad_w = scaled_w-input_w\n",
    "image = np.pad(image, [(0, pad_h),(0, pad_w),(0,0)], 'constant')\n",
    "print(scaled_h, scaled_w)\n",
    "out_img = np.zeros((3,scaled_h*UPSCALE_FACTOR, scaled_w*UPSCALE_FACTOR))\n",
    "print(out_img.shape)\n",
    "for i in range(0, (720//88)+1):\n",
    "    for j in range(0, (1280//88)+1):\n",
    "        tmp_img = ToTensor()(image).unsqueeze(0)[:,:,i*88:(i+1)*88,j*88:(j+1)*88]\n",
    "        tmp_img = tmp_img.cuda()\n",
    "        tmp_out = model(tmp_img).detach().cpu().numpy().squeeze()\n",
    "        out_img[:,i*88*UPSCALE_FACTOR:(i+1)*88*UPSCALE_FACTOR,j*88*UPSCALE_FACTOR:(j+1)*88*UPSCALE_FACTOR] = tmp_out\n",
    "out_img = (out_img.transpose(1,2,0)*255).astype(np.uint8)[:input_h*4, :input_w*4, :]\n",
    "out_img = cv2.resize(out_img, dsize=(2560, 1440), interpolation=cv2.INTER_CUBIC)\n",
    "print(out_img.shape)\n",
    "pil_img = Image.fromarray(out_img)\n",
    "pil_img.show()\n"
   ]
  },
  {
   "cell_type": "code",
   "execution_count": null,
   "id": "fef74f62",
   "metadata": {},
   "outputs": [],
   "source": []
  }
 ],
 "metadata": {
  "kernelspec": {
   "display_name": "Python 3 (ipykernel)",
   "language": "python",
   "name": "python3"
  },
  "language_info": {
   "codemirror_mode": {
    "name": "ipython",
    "version": 3
   },
   "file_extension": ".py",
   "mimetype": "text/x-python",
   "name": "python",
   "nbconvert_exporter": "python",
   "pygments_lexer": "ipython3",
   "version": "3.9.7"
  }
 },
 "nbformat": 4,
 "nbformat_minor": 5
}
